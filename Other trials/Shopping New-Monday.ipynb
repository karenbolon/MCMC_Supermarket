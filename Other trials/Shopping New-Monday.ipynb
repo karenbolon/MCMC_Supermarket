{
 "cells": [
  {
   "cell_type": "markdown",
   "id": "dd8d9c67",
   "metadata": {},
   "source": [
    "# Import"
   ]
  },
  {
   "cell_type": "code",
   "execution_count": 1,
   "id": "ef8d75b3",
   "metadata": {},
   "outputs": [],
   "source": [
    "import pandas as pd\n",
    "import numpy as np\n",
    "import os\n",
    "import matplotlib.pyplot as plt\n",
    "import seaborn as sns\n",
    "from IPython import display\n",
    "from datetime import datetime, timedelta\n",
    "import random"
   ]
  },
  {
   "cell_type": "code",
   "execution_count": 2,
   "id": "826f1b8f",
   "metadata": {},
   "outputs": [
    {
     "name": "stdout",
     "output_type": "stream",
     "text": [
      "friday.csv    monday.csv    thursday.csv  tuesday.csv   wednesday.csv\r\n"
     ]
    }
   ],
   "source": [
    "# listing all the csv files\n",
    "!ls *.csv"
   ]
  },
  {
   "cell_type": "markdown",
   "id": "b2fe1d22",
   "metadata": {
    "heading_collapsed": true
   },
   "source": [
    "## Monday"
   ]
  },
  {
   "cell_type": "code",
   "execution_count": 3,
   "id": "355f04f6",
   "metadata": {
    "hidden": true
   },
   "outputs": [],
   "source": [
    "monday=pd.read_csv('monday.csv', sep = ';', parse_dates=['timestamp'])"
   ]
  },
  {
   "cell_type": "code",
   "execution_count": 4,
   "id": "ee7b1a85",
   "metadata": {
    "hidden": true
   },
   "outputs": [
    {
     "name": "stdout",
     "output_type": "stream",
     "text": [
      "<class 'pandas.core.frame.DataFrame'>\n",
      "RangeIndex: 4884 entries, 0 to 4883\n",
      "Data columns (total 3 columns):\n",
      " #   Column       Non-Null Count  Dtype         \n",
      "---  ------       --------------  -----         \n",
      " 0   timestamp    4884 non-null   datetime64[ns]\n",
      " 1   customer_no  4884 non-null   int64         \n",
      " 2   location     4884 non-null   object        \n",
      "dtypes: datetime64[ns](1), int64(1), object(1)\n",
      "memory usage: 114.6+ KB\n"
     ]
    }
   ],
   "source": [
    "monday.info()"
   ]
  },
  {
   "cell_type": "code",
   "execution_count": 5,
   "id": "4493591a",
   "metadata": {
    "hidden": true
   },
   "outputs": [
    {
     "data": {
      "text/plain": [
       "0"
      ]
     },
     "execution_count": 5,
     "metadata": {},
     "output_type": "execute_result"
    }
   ],
   "source": [
    "monday.isna().sum().sum()"
   ]
  },
  {
   "cell_type": "markdown",
   "id": "6ab25a8e",
   "metadata": {
    "heading_collapsed": true,
    "hidden": true
   },
   "source": [
    "### Find customers not checked out"
   ]
  },
  {
   "cell_type": "code",
   "execution_count": 6,
   "id": "153ea8a3",
   "metadata": {
    "hidden": true
   },
   "outputs": [],
   "source": [
    "monday['last_location']=monday.groupby('customer_no')['location'].transform('last')\n",
    "#monday.head(2)"
   ]
  },
  {
   "cell_type": "code",
   "execution_count": 7,
   "id": "a7e4b7f9",
   "metadata": {
    "hidden": true
   },
   "outputs": [
    {
     "data": {
      "text/plain": [
       "last_location\n",
       "checkout    4861\n",
       "dairy          7\n",
       "fruit         11\n",
       "spices         5\n",
       "Name: customer_no, dtype: int64"
      ]
     },
     "execution_count": 7,
     "metadata": {},
     "output_type": "execute_result"
    }
   ],
   "source": [
    "#check to see who hasn't been checked out\n",
    "monday.groupby('last_location')['customer_no'].count()"
   ]
  },
  {
   "cell_type": "code",
   "execution_count": 8,
   "id": "e5b58ced",
   "metadata": {
    "hidden": true
   },
   "outputs": [],
   "source": [
    "m_not_checkedout=monday[monday['last_location']!='checkout']\n",
    "#m_not_checkedout"
   ]
  },
  {
   "cell_type": "code",
   "execution_count": 9,
   "id": "bebbdcf5",
   "metadata": {
    "hidden": true
   },
   "outputs": [
    {
     "data": {
      "text/plain": [
       "array([1430, 1433, 1437, 1439, 1440, 1441, 1443, 1445, 1446, 1447])"
      ]
     },
     "execution_count": 9,
     "metadata": {},
     "output_type": "execute_result"
    }
   ],
   "source": [
    "mnco=m_not_checkedout['customer_no'].unique()\n",
    "mnco"
   ]
  },
  {
   "cell_type": "code",
   "execution_count": 10,
   "id": "4e898681",
   "metadata": {
    "hidden": true
   },
   "outputs": [
    {
     "name": "stdout",
     "output_type": "stream",
     "text": [
      "List: [1430, 1433, 1437, 1439, 1440, 1441, 1443, 1445, 1446, 1447]\n"
     ]
    }
   ],
   "source": [
    "mnco_list = mnco.tolist()\n",
    "print(f'List: {mnco_list}')"
   ]
  },
  {
   "cell_type": "code",
   "execution_count": 11,
   "id": "a7fc0cb3",
   "metadata": {
    "hidden": true
   },
   "outputs": [],
   "source": [
    "for i in mnco_list: \n",
    "    monday=monday.append({'timestamp': '2019-09-02 21:50:00',\n",
    "                  'customer_no': i,\n",
    "                  'location': 'checkout',\n",
    "                  'day':'Monday',\n",
    "                  'last_location': 'checkout'}, ignore_index=True)"
   ]
  },
  {
   "cell_type": "code",
   "execution_count": 12,
   "id": "2dd08da2",
   "metadata": {
    "hidden": true
   },
   "outputs": [],
   "source": [
    "for i in mnco_list:\n",
    "    monday.loc[monday[\"customer_no\"] == i, \"last_location\"] = 'checkout'"
   ]
  },
  {
   "cell_type": "markdown",
   "id": "bb8f7040",
   "metadata": {
    "heading_collapsed": true,
    "hidden": true
   },
   "source": [
    "### Data Cleanup"
   ]
  },
  {
   "cell_type": "code",
   "execution_count": 13,
   "id": "a26b1c85",
   "metadata": {
    "hidden": true
   },
   "outputs": [
    {
     "data": {
      "text/plain": [
       "0       2019-09-02 07:03:00\n",
       "1       2019-09-02 07:03:00\n",
       "2       2019-09-02 07:04:00\n",
       "3       2019-09-02 07:04:00\n",
       "4       2019-09-02 07:04:00\n",
       "               ...         \n",
       "4889    2019-09-02 21:50:00\n",
       "4890    2019-09-02 21:50:00\n",
       "4891    2019-09-02 21:50:00\n",
       "4892    2019-09-02 21:50:00\n",
       "4893    2019-09-02 21:50:00\n",
       "Name: timestamp, Length: 4894, dtype: object"
      ]
     },
     "execution_count": 13,
     "metadata": {},
     "output_type": "execute_result"
    }
   ],
   "source": [
    "monday['timestamp'].astype(str)"
   ]
  },
  {
   "cell_type": "code",
   "execution_count": 14,
   "id": "21499da5",
   "metadata": {
    "hidden": true
   },
   "outputs": [],
   "source": [
    "monday['timestamp'] = pd.to_datetime(monday['timestamp'], format = '%Y-%m-%d %H:%M:%S')"
   ]
  },
  {
   "cell_type": "code",
   "execution_count": 15,
   "id": "5e2973dc",
   "metadata": {
    "hidden": true
   },
   "outputs": [],
   "source": [
    "#extract day, hour and minutes, might need to calculate length of time spent\n",
    "monday['day']=monday['timestamp'].dt.day_name()\n",
    "monday['hour']=monday['timestamp'].dt.hour"
   ]
  },
  {
   "cell_type": "code",
   "execution_count": 16,
   "id": "49a13233",
   "metadata": {
    "hidden": true
   },
   "outputs": [],
   "source": [
    "monday['hour']=monday['hour'].astype('int64')"
   ]
  },
  {
   "cell_type": "code",
   "execution_count": 17,
   "id": "2c37613a",
   "metadata": {
    "hidden": true
   },
   "outputs": [],
   "source": [
    "#make a unique identifier for customers on Monday as client numbers repeat each day\n",
    "monday['unique_id']=monday['customer_no'].astype(str)+monday['day']"
   ]
  },
  {
   "cell_type": "code",
   "execution_count": 18,
   "id": "3edf7443",
   "metadata": {
    "hidden": true
   },
   "outputs": [
    {
     "data": {
      "text/html": [
       "<div>\n",
       "<style scoped>\n",
       "    .dataframe tbody tr th:only-of-type {\n",
       "        vertical-align: middle;\n",
       "    }\n",
       "\n",
       "    .dataframe tbody tr th {\n",
       "        vertical-align: top;\n",
       "    }\n",
       "\n",
       "    .dataframe thead th {\n",
       "        text-align: right;\n",
       "    }\n",
       "</style>\n",
       "<table border=\"1\" class=\"dataframe\">\n",
       "  <thead>\n",
       "    <tr style=\"text-align: right;\">\n",
       "      <th></th>\n",
       "      <th>timestamp</th>\n",
       "      <th>customer_no</th>\n",
       "      <th>location</th>\n",
       "      <th>last_location</th>\n",
       "      <th>day</th>\n",
       "      <th>hour</th>\n",
       "      <th>unique_id</th>\n",
       "    </tr>\n",
       "  </thead>\n",
       "  <tbody>\n",
       "    <tr>\n",
       "      <th>0</th>\n",
       "      <td>2019-09-02 07:03:00</td>\n",
       "      <td>1</td>\n",
       "      <td>dairy</td>\n",
       "      <td>checkout</td>\n",
       "      <td>Monday</td>\n",
       "      <td>7</td>\n",
       "      <td>1Monday</td>\n",
       "    </tr>\n",
       "    <tr>\n",
       "      <th>1</th>\n",
       "      <td>2019-09-02 07:03:00</td>\n",
       "      <td>2</td>\n",
       "      <td>dairy</td>\n",
       "      <td>checkout</td>\n",
       "      <td>Monday</td>\n",
       "      <td>7</td>\n",
       "      <td>2Monday</td>\n",
       "    </tr>\n",
       "  </tbody>\n",
       "</table>\n",
       "</div>"
      ],
      "text/plain": [
       "            timestamp  customer_no location last_location     day  hour  \\\n",
       "0 2019-09-02 07:03:00            1    dairy      checkout  Monday     7   \n",
       "1 2019-09-02 07:03:00            2    dairy      checkout  Monday     7   \n",
       "\n",
       "  unique_id  \n",
       "0   1Monday  \n",
       "1   2Monday  "
      ]
     },
     "execution_count": 18,
     "metadata": {},
     "output_type": "execute_result"
    }
   ],
   "source": [
    "monday.head(2)"
   ]
  },
  {
   "cell_type": "markdown",
   "id": "3eeb398b",
   "metadata": {
    "heading_collapsed": true,
    "hidden": true
   },
   "source": [
    "### Checks on Checkout data"
   ]
  },
  {
   "cell_type": "code",
   "execution_count": 19,
   "id": "965d151c",
   "metadata": {
    "hidden": true,
    "scrolled": true
   },
   "outputs": [
    {
     "data": {
      "text/html": [
       "<div>\n",
       "<style scoped>\n",
       "    .dataframe tbody tr th:only-of-type {\n",
       "        vertical-align: middle;\n",
       "    }\n",
       "\n",
       "    .dataframe tbody tr th {\n",
       "        vertical-align: top;\n",
       "    }\n",
       "\n",
       "    .dataframe thead th {\n",
       "        text-align: right;\n",
       "    }\n",
       "</style>\n",
       "<table border=\"1\" class=\"dataframe\">\n",
       "  <thead>\n",
       "    <tr style=\"text-align: right;\">\n",
       "      <th></th>\n",
       "      <th>timestamp</th>\n",
       "      <th>customer_no</th>\n",
       "      <th>location</th>\n",
       "      <th>last_location</th>\n",
       "      <th>day</th>\n",
       "      <th>hour</th>\n",
       "      <th>unique_id</th>\n",
       "    </tr>\n",
       "  </thead>\n",
       "  <tbody>\n",
       "    <tr>\n",
       "      <th>4883</th>\n",
       "      <td>2019-09-02 21:50:00</td>\n",
       "      <td>1447</td>\n",
       "      <td>fruit</td>\n",
       "      <td>checkout</td>\n",
       "      <td>Monday</td>\n",
       "      <td>21</td>\n",
       "      <td>1447Monday</td>\n",
       "    </tr>\n",
       "    <tr>\n",
       "      <th>4893</th>\n",
       "      <td>2019-09-02 21:50:00</td>\n",
       "      <td>1447</td>\n",
       "      <td>checkout</td>\n",
       "      <td>checkout</td>\n",
       "      <td>Monday</td>\n",
       "      <td>21</td>\n",
       "      <td>1447Monday</td>\n",
       "    </tr>\n",
       "  </tbody>\n",
       "</table>\n",
       "</div>"
      ],
      "text/plain": [
       "               timestamp  customer_no  location last_location     day  hour  \\\n",
       "4883 2019-09-02 21:50:00         1447     fruit      checkout  Monday    21   \n",
       "4893 2019-09-02 21:50:00         1447  checkout      checkout  Monday    21   \n",
       "\n",
       "       unique_id  \n",
       "4883  1447Monday  \n",
       "4893  1447Monday  "
      ]
     },
     "execution_count": 19,
     "metadata": {},
     "output_type": "execute_result"
    }
   ],
   "source": [
    "c1447=monday[monday['customer_no']==1447]\n",
    "c1447"
   ]
  },
  {
   "cell_type": "code",
   "execution_count": 20,
   "id": "cded555b",
   "metadata": {
    "hidden": true
   },
   "outputs": [
    {
     "data": {
      "text/html": [
       "<div>\n",
       "<style scoped>\n",
       "    .dataframe tbody tr th:only-of-type {\n",
       "        vertical-align: middle;\n",
       "    }\n",
       "\n",
       "    .dataframe tbody tr th {\n",
       "        vertical-align: top;\n",
       "    }\n",
       "\n",
       "    .dataframe thead th {\n",
       "        text-align: right;\n",
       "    }\n",
       "</style>\n",
       "<table border=\"1\" class=\"dataframe\">\n",
       "  <thead>\n",
       "    <tr style=\"text-align: right;\">\n",
       "      <th></th>\n",
       "      <th>timestamp</th>\n",
       "      <th>customer_no</th>\n",
       "      <th>location</th>\n",
       "      <th>last_location</th>\n",
       "      <th>day</th>\n",
       "      <th>hour</th>\n",
       "      <th>unique_id</th>\n",
       "    </tr>\n",
       "  </thead>\n",
       "  <tbody>\n",
       "    <tr>\n",
       "      <th>1750</th>\n",
       "      <td>2019-09-02 13:04:00</td>\n",
       "      <td>526</td>\n",
       "      <td>fruit</td>\n",
       "      <td>checkout</td>\n",
       "      <td>Monday</td>\n",
       "      <td>13</td>\n",
       "      <td>526Monday</td>\n",
       "    </tr>\n",
       "    <tr>\n",
       "      <th>1756</th>\n",
       "      <td>2019-09-02 13:06:00</td>\n",
       "      <td>526</td>\n",
       "      <td>dairy</td>\n",
       "      <td>checkout</td>\n",
       "      <td>Monday</td>\n",
       "      <td>13</td>\n",
       "      <td>526Monday</td>\n",
       "    </tr>\n",
       "    <tr>\n",
       "      <th>1764</th>\n",
       "      <td>2019-09-02 13:07:00</td>\n",
       "      <td>526</td>\n",
       "      <td>drinks</td>\n",
       "      <td>checkout</td>\n",
       "      <td>Monday</td>\n",
       "      <td>13</td>\n",
       "      <td>526Monday</td>\n",
       "    </tr>\n",
       "    <tr>\n",
       "      <th>1770</th>\n",
       "      <td>2019-09-02 13:08:00</td>\n",
       "      <td>526</td>\n",
       "      <td>spices</td>\n",
       "      <td>checkout</td>\n",
       "      <td>Monday</td>\n",
       "      <td>13</td>\n",
       "      <td>526Monday</td>\n",
       "    </tr>\n",
       "    <tr>\n",
       "      <th>1773</th>\n",
       "      <td>2019-09-02 13:09:00</td>\n",
       "      <td>526</td>\n",
       "      <td>fruit</td>\n",
       "      <td>checkout</td>\n",
       "      <td>Monday</td>\n",
       "      <td>13</td>\n",
       "      <td>526Monday</td>\n",
       "    </tr>\n",
       "    <tr>\n",
       "      <th>1785</th>\n",
       "      <td>2019-09-02 13:11:00</td>\n",
       "      <td>526</td>\n",
       "      <td>spices</td>\n",
       "      <td>checkout</td>\n",
       "      <td>Monday</td>\n",
       "      <td>13</td>\n",
       "      <td>526Monday</td>\n",
       "    </tr>\n",
       "    <tr>\n",
       "      <th>1792</th>\n",
       "      <td>2019-09-02 13:12:00</td>\n",
       "      <td>526</td>\n",
       "      <td>drinks</td>\n",
       "      <td>checkout</td>\n",
       "      <td>Monday</td>\n",
       "      <td>13</td>\n",
       "      <td>526Monday</td>\n",
       "    </tr>\n",
       "    <tr>\n",
       "      <th>1805</th>\n",
       "      <td>2019-09-02 13:14:00</td>\n",
       "      <td>526</td>\n",
       "      <td>spices</td>\n",
       "      <td>checkout</td>\n",
       "      <td>Monday</td>\n",
       "      <td>13</td>\n",
       "      <td>526Monday</td>\n",
       "    </tr>\n",
       "    <tr>\n",
       "      <th>1811</th>\n",
       "      <td>2019-09-02 13:15:00</td>\n",
       "      <td>526</td>\n",
       "      <td>dairy</td>\n",
       "      <td>checkout</td>\n",
       "      <td>Monday</td>\n",
       "      <td>13</td>\n",
       "      <td>526Monday</td>\n",
       "    </tr>\n",
       "    <tr>\n",
       "      <th>1832</th>\n",
       "      <td>2019-09-02 13:17:00</td>\n",
       "      <td>526</td>\n",
       "      <td>fruit</td>\n",
       "      <td>checkout</td>\n",
       "      <td>Monday</td>\n",
       "      <td>13</td>\n",
       "      <td>526Monday</td>\n",
       "    </tr>\n",
       "    <tr>\n",
       "      <th>1856</th>\n",
       "      <td>2019-09-02 13:19:00</td>\n",
       "      <td>526</td>\n",
       "      <td>spices</td>\n",
       "      <td>checkout</td>\n",
       "      <td>Monday</td>\n",
       "      <td>13</td>\n",
       "      <td>526Monday</td>\n",
       "    </tr>\n",
       "    <tr>\n",
       "      <th>1873</th>\n",
       "      <td>2019-09-02 13:22:00</td>\n",
       "      <td>526</td>\n",
       "      <td>fruit</td>\n",
       "      <td>checkout</td>\n",
       "      <td>Monday</td>\n",
       "      <td>13</td>\n",
       "      <td>526Monday</td>\n",
       "    </tr>\n",
       "    <tr>\n",
       "      <th>1882</th>\n",
       "      <td>2019-09-02 13:23:00</td>\n",
       "      <td>526</td>\n",
       "      <td>drinks</td>\n",
       "      <td>checkout</td>\n",
       "      <td>Monday</td>\n",
       "      <td>13</td>\n",
       "      <td>526Monday</td>\n",
       "    </tr>\n",
       "    <tr>\n",
       "      <th>1886</th>\n",
       "      <td>2019-09-02 13:24:00</td>\n",
       "      <td>526</td>\n",
       "      <td>fruit</td>\n",
       "      <td>checkout</td>\n",
       "      <td>Monday</td>\n",
       "      <td>13</td>\n",
       "      <td>526Monday</td>\n",
       "    </tr>\n",
       "    <tr>\n",
       "      <th>1896</th>\n",
       "      <td>2019-09-02 13:25:00</td>\n",
       "      <td>526</td>\n",
       "      <td>spices</td>\n",
       "      <td>checkout</td>\n",
       "      <td>Monday</td>\n",
       "      <td>13</td>\n",
       "      <td>526Monday</td>\n",
       "    </tr>\n",
       "    <tr>\n",
       "      <th>1925</th>\n",
       "      <td>2019-09-02 13:29:00</td>\n",
       "      <td>526</td>\n",
       "      <td>fruit</td>\n",
       "      <td>checkout</td>\n",
       "      <td>Monday</td>\n",
       "      <td>13</td>\n",
       "      <td>526Monday</td>\n",
       "    </tr>\n",
       "    <tr>\n",
       "      <th>1970</th>\n",
       "      <td>2019-09-02 13:36:00</td>\n",
       "      <td>526</td>\n",
       "      <td>dairy</td>\n",
       "      <td>checkout</td>\n",
       "      <td>Monday</td>\n",
       "      <td>13</td>\n",
       "      <td>526Monday</td>\n",
       "    </tr>\n",
       "    <tr>\n",
       "      <th>2007</th>\n",
       "      <td>2019-09-02 13:41:00</td>\n",
       "      <td>526</td>\n",
       "      <td>checkout</td>\n",
       "      <td>checkout</td>\n",
       "      <td>Monday</td>\n",
       "      <td>13</td>\n",
       "      <td>526Monday</td>\n",
       "    </tr>\n",
       "  </tbody>\n",
       "</table>\n",
       "</div>"
      ],
      "text/plain": [
       "               timestamp  customer_no  location last_location     day  hour  \\\n",
       "1750 2019-09-02 13:04:00          526     fruit      checkout  Monday    13   \n",
       "1756 2019-09-02 13:06:00          526     dairy      checkout  Monday    13   \n",
       "1764 2019-09-02 13:07:00          526    drinks      checkout  Monday    13   \n",
       "1770 2019-09-02 13:08:00          526    spices      checkout  Monday    13   \n",
       "1773 2019-09-02 13:09:00          526     fruit      checkout  Monday    13   \n",
       "1785 2019-09-02 13:11:00          526    spices      checkout  Monday    13   \n",
       "1792 2019-09-02 13:12:00          526    drinks      checkout  Monday    13   \n",
       "1805 2019-09-02 13:14:00          526    spices      checkout  Monday    13   \n",
       "1811 2019-09-02 13:15:00          526     dairy      checkout  Monday    13   \n",
       "1832 2019-09-02 13:17:00          526     fruit      checkout  Monday    13   \n",
       "1856 2019-09-02 13:19:00          526    spices      checkout  Monday    13   \n",
       "1873 2019-09-02 13:22:00          526     fruit      checkout  Monday    13   \n",
       "1882 2019-09-02 13:23:00          526    drinks      checkout  Monday    13   \n",
       "1886 2019-09-02 13:24:00          526     fruit      checkout  Monday    13   \n",
       "1896 2019-09-02 13:25:00          526    spices      checkout  Monday    13   \n",
       "1925 2019-09-02 13:29:00          526     fruit      checkout  Monday    13   \n",
       "1970 2019-09-02 13:36:00          526     dairy      checkout  Monday    13   \n",
       "2007 2019-09-02 13:41:00          526  checkout      checkout  Monday    13   \n",
       "\n",
       "      unique_id  \n",
       "1750  526Monday  \n",
       "1756  526Monday  \n",
       "1764  526Monday  \n",
       "1770  526Monday  \n",
       "1773  526Monday  \n",
       "1785  526Monday  \n",
       "1792  526Monday  \n",
       "1805  526Monday  \n",
       "1811  526Monday  \n",
       "1832  526Monday  \n",
       "1856  526Monday  \n",
       "1873  526Monday  \n",
       "1882  526Monday  \n",
       "1886  526Monday  \n",
       "1896  526Monday  \n",
       "1925  526Monday  \n",
       "1970  526Monday  \n",
       "2007  526Monday  "
      ]
     },
     "execution_count": 20,
     "metadata": {},
     "output_type": "execute_result"
    }
   ],
   "source": [
    "c526=monday[monday['customer_no']==526]\n",
    "c526"
   ]
  },
  {
   "cell_type": "markdown",
   "id": "79e2aafc",
   "metadata": {},
   "source": [
    "# EDA"
   ]
  },
  {
   "cell_type": "code",
   "execution_count": 21,
   "id": "d645aa0e",
   "metadata": {},
   "outputs": [
    {
     "data": {
      "text/html": [
       "<div>\n",
       "<style scoped>\n",
       "    .dataframe tbody tr th:only-of-type {\n",
       "        vertical-align: middle;\n",
       "    }\n",
       "\n",
       "    .dataframe tbody tr th {\n",
       "        vertical-align: top;\n",
       "    }\n",
       "\n",
       "    .dataframe thead th {\n",
       "        text-align: right;\n",
       "    }\n",
       "</style>\n",
       "<table border=\"1\" class=\"dataframe\">\n",
       "  <thead>\n",
       "    <tr style=\"text-align: right;\">\n",
       "      <th></th>\n",
       "      <th>timestamp</th>\n",
       "      <th>customer_no</th>\n",
       "      <th>last_location</th>\n",
       "      <th>day</th>\n",
       "      <th>hour</th>\n",
       "      <th>unique_id</th>\n",
       "    </tr>\n",
       "    <tr>\n",
       "      <th>location</th>\n",
       "      <th></th>\n",
       "      <th></th>\n",
       "      <th></th>\n",
       "      <th></th>\n",
       "      <th></th>\n",
       "      <th></th>\n",
       "    </tr>\n",
       "  </thead>\n",
       "  <tbody>\n",
       "    <tr>\n",
       "      <th>checkout</th>\n",
       "      <td>1447</td>\n",
       "      <td>1447</td>\n",
       "      <td>1447</td>\n",
       "      <td>1447</td>\n",
       "      <td>1447</td>\n",
       "      <td>1447</td>\n",
       "    </tr>\n",
       "    <tr>\n",
       "      <th>dairy</th>\n",
       "      <td>895</td>\n",
       "      <td>895</td>\n",
       "      <td>895</td>\n",
       "      <td>895</td>\n",
       "      <td>895</td>\n",
       "      <td>895</td>\n",
       "    </tr>\n",
       "    <tr>\n",
       "      <th>drinks</th>\n",
       "      <td>797</td>\n",
       "      <td>797</td>\n",
       "      <td>797</td>\n",
       "      <td>797</td>\n",
       "      <td>797</td>\n",
       "      <td>797</td>\n",
       "    </tr>\n",
       "    <tr>\n",
       "      <th>fruit</th>\n",
       "      <td>1005</td>\n",
       "      <td>1005</td>\n",
       "      <td>1005</td>\n",
       "      <td>1005</td>\n",
       "      <td>1005</td>\n",
       "      <td>1005</td>\n",
       "    </tr>\n",
       "    <tr>\n",
       "      <th>spices</th>\n",
       "      <td>750</td>\n",
       "      <td>750</td>\n",
       "      <td>750</td>\n",
       "      <td>750</td>\n",
       "      <td>750</td>\n",
       "      <td>750</td>\n",
       "    </tr>\n",
       "  </tbody>\n",
       "</table>\n",
       "</div>"
      ],
      "text/plain": [
       "          timestamp  customer_no  last_location   day  hour  unique_id\n",
       "location                                                              \n",
       "checkout       1447         1447           1447  1447  1447       1447\n",
       "dairy           895          895            895   895   895        895\n",
       "drinks          797          797            797   797   797        797\n",
       "fruit          1005         1005           1005  1005  1005       1005\n",
       "spices          750          750            750   750   750        750"
      ]
     },
     "execution_count": 21,
     "metadata": {},
     "output_type": "execute_result"
    }
   ],
   "source": [
    "c_sec_m=monday.groupby('location').count()\n",
    "c_sec_m"
   ]
  },
  {
   "cell_type": "code",
   "execution_count": 22,
   "id": "081ccfc3",
   "metadata": {},
   "outputs": [
    {
     "data": {
      "text/plain": [
       "['dairy', 'spices', 'fruit', 'checkout', 'drinks']"
      ]
     },
     "execution_count": 22,
     "metadata": {},
     "output_type": "execute_result"
    }
   ],
   "source": [
    "location_list=list(monday['location'].unique())\n",
    "location_list"
   ]
  },
  {
   "cell_type": "code",
   "execution_count": 23,
   "id": "da3552b7",
   "metadata": {},
   "outputs": [
    {
     "data": {
      "text/plain": [
       "Text(0, 0.5, 'Number of Customers')"
      ]
     },
     "execution_count": 23,
     "metadata": {},
     "output_type": "execute_result"
    },
    {
     "data": {
      "image/png": "[encoded data removed]",
      "text/plain": [
       "<Figure size 432x288 with 1 Axes>"
      ]
     },
     "metadata": {
      "needs_background": "light"
     },
     "output_type": "display_data"
    }
   ],
   "source": [
    "monday.groupby(monday['hour'])['customer_no'].count().plot()\n",
    "plt.title('Number of Customers throughout the Day')\n",
    "plt.xlabel('Time (Hours)')\n",
    "plt.ylabel('Number of Customers')"
   ]
  },
  {
   "cell_type": "code",
   "execution_count": 24,
   "id": "6305a28b",
   "metadata": {},
   "outputs": [
    {
     "data": {
      "text/plain": [
       "Text(0.5, 0, 'Section')"
      ]
     },
     "execution_count": 24,
     "metadata": {},
     "output_type": "execute_result"
    },
    {
     "data": {
      "image/png": "[encoded data removed]",
      "text/plain": [
       "<Figure size 432x288 with 1 Axes>"
      ]
     },
     "metadata": {
      "needs_background": "light"
     },
     "output_type": "display_data"
    }
   ],
   "source": [
    "monday.groupby(['location'])['customer_no'].count().plot.bar()\n",
    "plt.title('Customers by Section (Monday only)')\n",
    "plt.ylabel('Number of Customers')\n",
    "plt.xlabel('Section')"
   ]
  },
  {
   "cell_type": "code",
   "execution_count": 25,
   "id": "44757412",
   "metadata": {},
   "outputs": [
    {
     "data": {
      "text/plain": [
       "<AxesSubplot:xlabel='location'>"
      ]
     },
     "execution_count": 25,
     "metadata": {},
     "output_type": "execute_result"
    },
    {
     "data": {
      "image/png": "[encoded data removed]",
      "text/plain": [
       "<Figure size 432x288 with 1 Axes>"
      ]
     },
     "metadata": {
      "needs_background": "light"
     },
     "output_type": "display_data"
    }
   ],
   "source": [
    "monday.groupby('location')['customer_no'].count().plot()"
   ]
  },
  {
   "cell_type": "code",
   "execution_count": 26,
   "id": "0f979a54",
   "metadata": {},
   "outputs": [
    {
     "data": {
      "text/plain": [
       "<matplotlib.legend.Legend at 0x7f84386d7e20>"
      ]
     },
     "execution_count": 26,
     "metadata": {},
     "output_type": "execute_result"
    },
    {
     "data": {
      "image/png": "[encoded data removed]",
      "text/plain": [
       "<Figure size 441.125x360 with 1 Axes>"
      ]
     },
     "metadata": {
      "needs_background": "light"
     },
     "output_type": "display_data"
    }
   ],
   "source": [
    "# Number of customers in each section over time\n",
    "c_time=pd.DataFrame(monday.groupby(['location','hour'])['customer_no'].nunique())\n",
    "p=sns.relplot(data=c_time, x='hour', y='customer_no', hue='location', kind='line')\n",
    "plt.ylabel('# of customers')\n",
    "plt.xlabel('hours')\n",
    "plt.title('Customers by Section Over Time')\n",
    "plt.plot(figsize=(20, 10))\n",
    "plt.tight_layout()\n",
    "p._legend.remove()\n",
    "plt.legend(bbox_to_anchor=(1.02, 1), loc='upper left', borderaxespad=0)"
   ]
  },
  {
   "cell_type": "code",
   "execution_count": 27,
   "id": "6c3c6dea",
   "metadata": {},
   "outputs": [
    {
     "data": {
      "text/html": [
       "<div>\n",
       "<style scoped>\n",
       "    .dataframe tbody tr th:only-of-type {\n",
       "        vertical-align: middle;\n",
       "    }\n",
       "\n",
       "    .dataframe tbody tr th {\n",
       "        vertical-align: top;\n",
       "    }\n",
       "\n",
       "    .dataframe thead th {\n",
       "        text-align: right;\n",
       "    }\n",
       "</style>\n",
       "<table border=\"1\" class=\"dataframe\">\n",
       "  <thead>\n",
       "    <tr style=\"text-align: right;\">\n",
       "      <th></th>\n",
       "      <th></th>\n",
       "      <th>customer_no</th>\n",
       "    </tr>\n",
       "    <tr>\n",
       "      <th>location</th>\n",
       "      <th>hour</th>\n",
       "      <th></th>\n",
       "    </tr>\n",
       "  </thead>\n",
       "  <tbody>\n",
       "    <tr>\n",
       "      <th rowspan=\"2\" valign=\"top\">checkout</th>\n",
       "      <th>7</th>\n",
       "      <td>92</td>\n",
       "    </tr>\n",
       "    <tr>\n",
       "      <th>8</th>\n",
       "      <td>112</td>\n",
       "    </tr>\n",
       "  </tbody>\n",
       "</table>\n",
       "</div>"
      ],
      "text/plain": [
       "               customer_no\n",
       "location hour             \n",
       "checkout 7              92\n",
       "         8             112"
      ]
     },
     "execution_count": 27,
     "metadata": {},
     "output_type": "execute_result"
    }
   ],
   "source": [
    "c_time.head(2)"
   ]
  },
  {
   "cell_type": "code",
   "execution_count": 28,
   "id": "c12e5cfe",
   "metadata": {},
   "outputs": [
    {
     "data": {
      "text/plain": [
       "<AxesSubplot:title={'center':'Total Customers in each Section on Monday'}, xlabel='location', ylabel='count'>"
      ]
     },
     "execution_count": 28,
     "metadata": {},
     "output_type": "execute_result"
    },
    {
     "data": {
      "image/png": "[encoded data removed]",
      "text/plain": [
       "<Figure size 864x432 with 1 Axes>"
      ]
     },
     "metadata": {
      "needs_background": "light"
     },
     "output_type": "display_data"
    }
   ],
   "source": [
    "plt.figure(figsize=(12, 6))\n",
    "plt.title('Total Customers in each Section on Monday')\n",
    "sns.countplot(x=monday['location'],hue = monday.day)"
   ]
  },
  {
   "cell_type": "code",
   "execution_count": 29,
   "id": "56c6ccdd",
   "metadata": {
    "scrolled": true
   },
   "outputs": [
    {
     "data": {
      "text/html": [
       "<div>\n",
       "<style scoped>\n",
       "    .dataframe tbody tr th:only-of-type {\n",
       "        vertical-align: middle;\n",
       "    }\n",
       "\n",
       "    .dataframe tbody tr th {\n",
       "        vertical-align: top;\n",
       "    }\n",
       "\n",
       "    .dataframe thead th {\n",
       "        text-align: right;\n",
       "    }\n",
       "</style>\n",
       "<table border=\"1\" class=\"dataframe\">\n",
       "  <thead>\n",
       "    <tr style=\"text-align: right;\">\n",
       "      <th></th>\n",
       "      <th>timestamp</th>\n",
       "      <th>customer_no</th>\n",
       "      <th>location</th>\n",
       "      <th>last_location</th>\n",
       "      <th>day</th>\n",
       "      <th>hour</th>\n",
       "      <th>unique_id</th>\n",
       "    </tr>\n",
       "  </thead>\n",
       "  <tbody>\n",
       "    <tr>\n",
       "      <th>8</th>\n",
       "      <td>2019-09-02 07:05:00</td>\n",
       "      <td>1</td>\n",
       "      <td>checkout</td>\n",
       "      <td>checkout</td>\n",
       "      <td>Monday</td>\n",
       "      <td>7</td>\n",
       "      <td>1Monday</td>\n",
       "    </tr>\n",
       "    <tr>\n",
       "      <th>9</th>\n",
       "      <td>2019-09-02 07:05:00</td>\n",
       "      <td>5</td>\n",
       "      <td>checkout</td>\n",
       "      <td>checkout</td>\n",
       "      <td>Monday</td>\n",
       "      <td>7</td>\n",
       "      <td>5Monday</td>\n",
       "    </tr>\n",
       "  </tbody>\n",
       "</table>\n",
       "</div>"
      ],
      "text/plain": [
       "            timestamp  customer_no  location last_location     day  hour  \\\n",
       "8 2019-09-02 07:05:00            1  checkout      checkout  Monday     7   \n",
       "9 2019-09-02 07:05:00            5  checkout      checkout  Monday     7   \n",
       "\n",
       "  unique_id  \n",
       "8   1Monday  \n",
       "9   5Monday  "
      ]
     },
     "execution_count": 29,
     "metadata": {},
     "output_type": "execute_result"
    }
   ],
   "source": [
    "customers_checkout_m=monday[monday['location']=='checkout']\n",
    "customers_checkout_m.head(2)"
   ]
  },
  {
   "cell_type": "code",
   "execution_count": 30,
   "id": "d7ca715f",
   "metadata": {},
   "outputs": [
    {
     "data": {
      "text/plain": [
       "[]"
      ]
     },
     "execution_count": 30,
     "metadata": {},
     "output_type": "execute_result"
    },
    {
     "data": {
      "image/png": "[encoded data removed]",
      "text/plain": [
       "<Figure size 360x360 with 1 Axes>"
      ]
     },
     "metadata": {
      "needs_background": "light"
     },
     "output_type": "display_data"
    }
   ],
   "source": [
    "ch_time=pd.DataFrame(customers_checkout_m.groupby('hour')['customer_no'].nunique())\n",
    "sns.relplot(data=ch_time, x='hour', y='customer_no', kind='line')\n",
    "plt.ylabel('# of customers')\n",
    "plt.xlabel('hours')\n",
    "plt.title('Customers in Checkout Over Time')\n",
    "plt.plot(figsize=(20, 10))\n"
   ]
  },
  {
   "cell_type": "code",
   "execution_count": 31,
   "id": "0b807979",
   "metadata": {},
   "outputs": [],
   "source": [
    "#Calculate the time each customer spent in the market"
   ]
  },
  {
   "cell_type": "code",
   "execution_count": 32,
   "id": "ac40894b",
   "metadata": {},
   "outputs": [
    {
     "data": {
      "text/html": [
       "<div>\n",
       "<style scoped>\n",
       "    .dataframe tbody tr th:only-of-type {\n",
       "        vertical-align: middle;\n",
       "    }\n",
       "\n",
       "    .dataframe tbody tr th {\n",
       "        vertical-align: top;\n",
       "    }\n",
       "\n",
       "    .dataframe thead th {\n",
       "        text-align: right;\n",
       "    }\n",
       "</style>\n",
       "<table border=\"1\" class=\"dataframe\">\n",
       "  <thead>\n",
       "    <tr style=\"text-align: right;\">\n",
       "      <th></th>\n",
       "      <th>timestamp</th>\n",
       "      <th>customer_no</th>\n",
       "      <th>location</th>\n",
       "      <th>last_location</th>\n",
       "      <th>day</th>\n",
       "      <th>hour</th>\n",
       "      <th>unique_id</th>\n",
       "    </tr>\n",
       "  </thead>\n",
       "  <tbody>\n",
       "    <tr>\n",
       "      <th>0</th>\n",
       "      <td>2019-09-02 07:03:00</td>\n",
       "      <td>1</td>\n",
       "      <td>dairy</td>\n",
       "      <td>checkout</td>\n",
       "      <td>Monday</td>\n",
       "      <td>7</td>\n",
       "      <td>1Monday</td>\n",
       "    </tr>\n",
       "    <tr>\n",
       "      <th>8</th>\n",
       "      <td>2019-09-02 07:05:00</td>\n",
       "      <td>1</td>\n",
       "      <td>checkout</td>\n",
       "      <td>checkout</td>\n",
       "      <td>Monday</td>\n",
       "      <td>7</td>\n",
       "      <td>1Monday</td>\n",
       "    </tr>\n",
       "  </tbody>\n",
       "</table>\n",
       "</div>"
      ],
      "text/plain": [
       "            timestamp  customer_no  location last_location     day  hour  \\\n",
       "0 2019-09-02 07:03:00            1     dairy      checkout  Monday     7   \n",
       "8 2019-09-02 07:05:00            1  checkout      checkout  Monday     7   \n",
       "\n",
       "  unique_id  \n",
       "0   1Monday  \n",
       "8   1Monday  "
      ]
     },
     "execution_count": 32,
     "metadata": {},
     "output_type": "execute_result"
    }
   ],
   "source": [
    "cust_no_sorted=monday.sort_values('customer_no')#.reset_index()\n",
    "cust_no_sorted.head(2)"
   ]
  },
  {
   "cell_type": "code",
   "execution_count": 33,
   "id": "0ed59c1b",
   "metadata": {},
   "outputs": [],
   "source": [
    "cust_no_sorted['time_spent']=cust_no_sorted.sort_values(['customer_no','timestamp']).groupby('customer_no')['timestamp'].diff()\n"
   ]
  },
  {
   "cell_type": "code",
   "execution_count": 34,
   "id": "637ad035",
   "metadata": {},
   "outputs": [],
   "source": [
    "time_spent_m=cust_no_sorted[cust_no_sorted['time_spent'].notnull()]"
   ]
  },
  {
   "cell_type": "code",
   "execution_count": 35,
   "id": "15227683",
   "metadata": {},
   "outputs": [
    {
     "data": {
      "text/html": [
       "<div>\n",
       "<style scoped>\n",
       "    .dataframe tbody tr th:only-of-type {\n",
       "        vertical-align: middle;\n",
       "    }\n",
       "\n",
       "    .dataframe tbody tr th {\n",
       "        vertical-align: top;\n",
       "    }\n",
       "\n",
       "    .dataframe thead th {\n",
       "        text-align: right;\n",
       "    }\n",
       "</style>\n",
       "<table border=\"1\" class=\"dataframe\">\n",
       "  <thead>\n",
       "    <tr style=\"text-align: right;\">\n",
       "      <th></th>\n",
       "      <th>customer_no</th>\n",
       "      <th>time_spent</th>\n",
       "    </tr>\n",
       "  </thead>\n",
       "  <tbody>\n",
       "    <tr>\n",
       "      <th>8</th>\n",
       "      <td>1</td>\n",
       "      <td>0 days 00:02:00</td>\n",
       "    </tr>\n",
       "    <tr>\n",
       "      <th>12</th>\n",
       "      <td>2</td>\n",
       "      <td>0 days 00:03:00</td>\n",
       "    </tr>\n",
       "  </tbody>\n",
       "</table>\n",
       "</div>"
      ],
      "text/plain": [
       "    customer_no      time_spent\n",
       "8             1 0 days 00:02:00\n",
       "12            2 0 days 00:03:00"
      ]
     },
     "execution_count": 35,
     "metadata": {},
     "output_type": "execute_result"
    }
   ],
   "source": [
    "#Calculate the time each customer spent in the market\n",
    "ts_inmkt_m=time_spent_m[['customer_no','time_spent']]\n",
    "ts_inmkt_m.head(2)"
   ]
  },
  {
   "cell_type": "code",
   "execution_count": 36,
   "id": "cf42575c",
   "metadata": {
    "scrolled": true
   },
   "outputs": [],
   "source": [
    "ts=pd.DataFrame(ts_inmkt_m.groupby('time_spent')['customer_no'].count())"
   ]
  },
  {
   "cell_type": "code",
   "execution_count": 37,
   "id": "bbea7062",
   "metadata": {},
   "outputs": [
    {
     "data": {
      "text/plain": [
       "[]"
      ]
     },
     "execution_count": 37,
     "metadata": {},
     "output_type": "execute_result"
    },
    {
     "data": {
      "image/png": "[encoded data removed]",
      "text/plain": [
       "<Figure size 360x360 with 1 Axes>"
      ]
     },
     "metadata": {
      "needs_background": "light"
     },
     "output_type": "display_data"
    }
   ],
   "source": [
    "sns.relplot(data=ts, x='time_spent', y='customer_no', kind='line')\n",
    "plt.ylabel('# of customers')\n",
    "plt.xlabel('hours')\n",
    "plt.title('Amount of Time Customers Spend in Store')\n",
    "plt.plot(figsize=(20, 10))"
   ]
  },
  {
   "cell_type": "markdown",
   "id": "52418dfd",
   "metadata": {},
   "source": [
    "### Customers in Store Throughout the Day\n"
   ]
  },
  {
   "cell_type": "code",
   "execution_count": 38,
   "id": "f149bd94",
   "metadata": {},
   "outputs": [
    {
     "data": {
      "text/plain": [
       "[]"
      ]
     },
     "execution_count": 38,
     "metadata": {},
     "output_type": "execute_result"
    },
    {
     "data": {
      "image/png": "[encoded data removed]",
      "text/plain": [
       "<Figure size 360x360 with 1 Axes>"
      ]
     },
     "metadata": {
      "needs_background": "light"
     },
     "output_type": "display_data"
    }
   ],
   "source": [
    "total=pd.DataFrame(monday.groupby('hour')['customer_no'].nunique())\n",
    "sns.relplot(data=total, x=\"hour\", y=\"customer_no\", kind=\"line\")\n",
    "plt.ylabel('# of customers')\n",
    "plt.xlabel('hours')\n",
    "plt.title('Customers in Store Throughout the Day')\n",
    "plt.plot(figsize=(20, 10))"
   ]
  },
  {
   "cell_type": "code",
   "execution_count": 39,
   "id": "9f21c460",
   "metadata": {},
   "outputs": [
    {
     "name": "stdout",
     "output_type": "stream",
     "text": [
      "<class 'pandas.core.frame.DataFrame'>\n",
      "RangeIndex: 4894 entries, 0 to 4893\n",
      "Data columns (total 7 columns):\n",
      " #   Column         Non-Null Count  Dtype         \n",
      "---  ------         --------------  -----         \n",
      " 0   timestamp      4894 non-null   datetime64[ns]\n",
      " 1   customer_no    4894 non-null   int64         \n",
      " 2   location       4894 non-null   object        \n",
      " 3   last_location  4894 non-null   object        \n",
      " 4   day            4894 non-null   object        \n",
      " 5   hour           4894 non-null   int64         \n",
      " 6   unique_id      4894 non-null   object        \n",
      "dtypes: datetime64[ns](1), int64(2), object(4)\n",
      "memory usage: 267.8+ KB\n"
     ]
    }
   ],
   "source": [
    "monday.info()"
   ]
  },
  {
   "cell_type": "code",
   "execution_count": 40,
   "id": "98420c32",
   "metadata": {},
   "outputs": [],
   "source": [
    "monday.set_index('timestamp', inplace=True)"
   ]
  },
  {
   "cell_type": "code",
   "execution_count": 41,
   "id": "8d5e467b",
   "metadata": {},
   "outputs": [
    {
     "data": {
      "text/plain": [
       "dtype('<M8[ns]')"
      ]
     },
     "execution_count": 41,
     "metadata": {},
     "output_type": "execute_result"
    }
   ],
   "source": [
    "monday.index.dtype"
   ]
  },
  {
   "cell_type": "code",
   "execution_count": 42,
   "id": "a796dea1",
   "metadata": {},
   "outputs": [
    {
     "data": {
      "text/plain": [
       "pandas._libs.tslibs.timestamps.Timestamp"
      ]
     },
     "execution_count": 42,
     "metadata": {},
     "output_type": "execute_result"
    }
   ],
   "source": [
    "type(monday.index[0])"
   ]
  },
  {
   "cell_type": "code",
   "execution_count": null,
   "id": "551a8037",
   "metadata": {
    "scrolled": true
   },
   "outputs": [],
   "source": [
    "\n"
   ]
  },
  {
   "cell_type": "code",
   "execution_count": 43,
   "id": "324d051f",
   "metadata": {},
   "outputs": [
    {
     "name": "stdout",
     "output_type": "stream",
     "text": [
      "<class 'pandas.core.frame.DataFrame'>\n",
      "DatetimeIndex: 4894 entries, 2019-09-02 07:03:00 to 2019-09-02 21:50:00\n",
      "Data columns (total 6 columns):\n",
      " #   Column         Non-Null Count  Dtype \n",
      "---  ------         --------------  ----- \n",
      " 0   customer_no    4894 non-null   int64 \n",
      " 1   location       4894 non-null   object\n",
      " 2   last_location  4894 non-null   object\n",
      " 3   day            4894 non-null   object\n",
      " 4   hour           4894 non-null   int64 \n",
      " 5   unique_id      4894 non-null   object\n",
      "dtypes: int64(2), object(4)\n",
      "memory usage: 267.6+ KB\n"
     ]
    }
   ],
   "source": [
    "monday.info()"
   ]
  },
  {
   "cell_type": "code",
   "execution_count": 44,
   "id": "9e1e6a90",
   "metadata": {},
   "outputs": [
    {
     "data": {
      "text/plain": [
       "Text(0.5, 1.0, 'Customers in Store Throughout the Day')"
      ]
     },
     "execution_count": 44,
     "metadata": {},
     "output_type": "execute_result"
    },
    {
     "data": {
      "image/png": "[encoded data removed]",
      "text/plain": [
       "<Figure size 432x288 with 1 Axes>"
      ]
     },
     "metadata": {
      "needs_background": "light"
     },
     "output_type": "display_data"
    }
   ],
   "source": [
    "monday.resample('min')['customer_no'].nunique().plot()\n",
    "plt.ylabel('# of customers')\n",
    "plt.xlabel('time')\n",
    "plt.title('Customers in Store Throughout the Day')"
   ]
  },
  {
   "cell_type": "code",
   "execution_count": 45,
   "id": "6f2ae987",
   "metadata": {},
   "outputs": [
    {
     "data": {
      "text/plain": [
       "Text(0.5, 1.0, 'Customers in Store Throughout the Day (increments of 5 min)')"
      ]
     },
     "execution_count": 45,
     "metadata": {},
     "output_type": "execute_result"
    },
    {
     "data": {
      "image/png": "[encoded data removed]",
      "text/plain": [
       "<Figure size 432x288 with 1 Axes>"
      ]
     },
     "metadata": {
      "needs_background": "light"
     },
     "output_type": "display_data"
    }
   ],
   "source": [
    "monday.resample(\"5T\").nunique()[\"customer_no\"].plot()\n",
    "plt.ylabel('# of customers')\n",
    "plt.xlabel('time')\n",
    "plt.title('Customers in Store Throughout the Day (increments of 5 min)')"
   ]
  },
  {
   "cell_type": "code",
   "execution_count": 46,
   "id": "9bd10fb2",
   "metadata": {},
   "outputs": [],
   "source": [
    "#monday.head()"
   ]
  },
  {
   "cell_type": "markdown",
   "id": "4d5a17bb",
   "metadata": {},
   "source": [
    "# Calculate Transition Probabilities\n",
    "                    a 5x5 matrix"
   ]
  },
  {
   "cell_type": "code",
   "execution_count": 47,
   "id": "26448b2c",
   "metadata": {},
   "outputs": [
    {
     "data": {
      "text/plain": [
       "Index(['customer_no', 'location', 'last_location', 'day', 'hour', 'unique_id'], dtype='object')"
      ]
     },
     "execution_count": 47,
     "metadata": {},
     "output_type": "execute_result"
    }
   ],
   "source": [
    "monday.columns"
   ]
  },
  {
   "cell_type": "code",
   "execution_count": 48,
   "id": "ee055bf3",
   "metadata": {},
   "outputs": [
    {
     "data": {
      "text/html": [
       "<div>\n",
       "<style scoped>\n",
       "    .dataframe tbody tr th:only-of-type {\n",
       "        vertical-align: middle;\n",
       "    }\n",
       "\n",
       "    .dataframe tbody tr th {\n",
       "        vertical-align: top;\n",
       "    }\n",
       "\n",
       "    .dataframe thead th {\n",
       "        text-align: right;\n",
       "    }\n",
       "</style>\n",
       "<table border=\"1\" class=\"dataframe\">\n",
       "  <thead>\n",
       "    <tr style=\"text-align: right;\">\n",
       "      <th></th>\n",
       "      <th>customer_no</th>\n",
       "      <th>location</th>\n",
       "      <th>last_location</th>\n",
       "      <th>day</th>\n",
       "      <th>hour</th>\n",
       "      <th>unique_id</th>\n",
       "    </tr>\n",
       "    <tr>\n",
       "      <th>timestamp</th>\n",
       "      <th></th>\n",
       "      <th></th>\n",
       "      <th></th>\n",
       "      <th></th>\n",
       "      <th></th>\n",
       "      <th></th>\n",
       "    </tr>\n",
       "  </thead>\n",
       "  <tbody>\n",
       "    <tr>\n",
       "      <th>2019-09-02 07:03:00</th>\n",
       "      <td>1</td>\n",
       "      <td>dairy</td>\n",
       "      <td>checkout</td>\n",
       "      <td>Monday</td>\n",
       "      <td>7</td>\n",
       "      <td>1Monday</td>\n",
       "    </tr>\n",
       "    <tr>\n",
       "      <th>2019-09-02 07:03:00</th>\n",
       "      <td>2</td>\n",
       "      <td>dairy</td>\n",
       "      <td>checkout</td>\n",
       "      <td>Monday</td>\n",
       "      <td>7</td>\n",
       "      <td>2Monday</td>\n",
       "    </tr>\n",
       "  </tbody>\n",
       "</table>\n",
       "</div>"
      ],
      "text/plain": [
       "                     customer_no location last_location     day  hour  \\\n",
       "timestamp                                                               \n",
       "2019-09-02 07:03:00            1    dairy      checkout  Monday     7   \n",
       "2019-09-02 07:03:00            2    dairy      checkout  Monday     7   \n",
       "\n",
       "                    unique_id  \n",
       "timestamp                      \n",
       "2019-09-02 07:03:00   1Monday  \n",
       "2019-09-02 07:03:00   2Monday  "
      ]
     },
     "execution_count": 48,
     "metadata": {},
     "output_type": "execute_result"
    }
   ],
   "source": [
    "monday.head(2)"
   ]
  },
  {
   "cell_type": "code",
   "execution_count": 49,
   "id": "834f3955",
   "metadata": {},
   "outputs": [],
   "source": [
    "#resample by minute\n",
    "#Interpolation is used to estimate unknown data points between two known data points\n",
    "df1 = monday.groupby('customer_no').apply(lambda x : #x.set_index('timestamp')\n",
    "                                            x.resample('1Min')\n",
    "                                            .first()\n",
    "                                            .interpolate()\n",
    "                                            .ffill()).reset_index(level=0, drop=True).reset_index()\n",
    "\n"
   ]
  },
  {
   "cell_type": "code",
   "execution_count": 50,
   "id": "3c14ed88",
   "metadata": {},
   "outputs": [
    {
     "data": {
      "text/html": [
       "<div>\n",
       "<style scoped>\n",
       "    .dataframe tbody tr th:only-of-type {\n",
       "        vertical-align: middle;\n",
       "    }\n",
       "\n",
       "    .dataframe tbody tr th {\n",
       "        vertical-align: top;\n",
       "    }\n",
       "\n",
       "    .dataframe thead th {\n",
       "        text-align: right;\n",
       "    }\n",
       "</style>\n",
       "<table border=\"1\" class=\"dataframe\">\n",
       "  <thead>\n",
       "    <tr style=\"text-align: right;\">\n",
       "      <th></th>\n",
       "      <th>timestamp</th>\n",
       "      <th>customer_no</th>\n",
       "      <th>location</th>\n",
       "      <th>last_location</th>\n",
       "      <th>day</th>\n",
       "      <th>hour</th>\n",
       "      <th>unique_id</th>\n",
       "    </tr>\n",
       "  </thead>\n",
       "  <tbody>\n",
       "    <tr>\n",
       "      <th>0</th>\n",
       "      <td>2019-09-02 07:03:00</td>\n",
       "      <td>1.0</td>\n",
       "      <td>dairy</td>\n",
       "      <td>checkout</td>\n",
       "      <td>Monday</td>\n",
       "      <td>7.0</td>\n",
       "      <td>1Monday</td>\n",
       "    </tr>\n",
       "    <tr>\n",
       "      <th>1</th>\n",
       "      <td>2019-09-02 07:04:00</td>\n",
       "      <td>1.0</td>\n",
       "      <td>dairy</td>\n",
       "      <td>checkout</td>\n",
       "      <td>Monday</td>\n",
       "      <td>7.0</td>\n",
       "      <td>1Monday</td>\n",
       "    </tr>\n",
       "    <tr>\n",
       "      <th>2</th>\n",
       "      <td>2019-09-02 07:05:00</td>\n",
       "      <td>1.0</td>\n",
       "      <td>checkout</td>\n",
       "      <td>checkout</td>\n",
       "      <td>Monday</td>\n",
       "      <td>7.0</td>\n",
       "      <td>1Monday</td>\n",
       "    </tr>\n",
       "    <tr>\n",
       "      <th>3</th>\n",
       "      <td>2019-09-02 07:03:00</td>\n",
       "      <td>2.0</td>\n",
       "      <td>dairy</td>\n",
       "      <td>checkout</td>\n",
       "      <td>Monday</td>\n",
       "      <td>7.0</td>\n",
       "      <td>2Monday</td>\n",
       "    </tr>\n",
       "    <tr>\n",
       "      <th>4</th>\n",
       "      <td>2019-09-02 07:04:00</td>\n",
       "      <td>2.0</td>\n",
       "      <td>dairy</td>\n",
       "      <td>checkout</td>\n",
       "      <td>Monday</td>\n",
       "      <td>7.0</td>\n",
       "      <td>2Monday</td>\n",
       "    </tr>\n",
       "  </tbody>\n",
       "</table>\n",
       "</div>"
      ],
      "text/plain": [
       "            timestamp  customer_no  location last_location     day  hour  \\\n",
       "0 2019-09-02 07:03:00          1.0     dairy      checkout  Monday   7.0   \n",
       "1 2019-09-02 07:04:00          1.0     dairy      checkout  Monday   7.0   \n",
       "2 2019-09-02 07:05:00          1.0  checkout      checkout  Monday   7.0   \n",
       "3 2019-09-02 07:03:00          2.0     dairy      checkout  Monday   7.0   \n",
       "4 2019-09-02 07:04:00          2.0     dairy      checkout  Monday   7.0   \n",
       "\n",
       "  unique_id  \n",
       "0   1Monday  \n",
       "1   1Monday  \n",
       "2   1Monday  \n",
       "3   2Monday  \n",
       "4   2Monday  "
      ]
     },
     "execution_count": 50,
     "metadata": {},
     "output_type": "execute_result"
    }
   ],
   "source": [
    "df1.head()"
   ]
  },
  {
   "cell_type": "code",
   "execution_count": 51,
   "id": "ff494b91",
   "metadata": {},
   "outputs": [],
   "source": [
    "#create new column 'next_location' and shift\n",
    "df1['next_location']=df1['location'].shift(-1)"
   ]
  },
  {
   "cell_type": "code",
   "execution_count": 52,
   "id": "ab13fe8e",
   "metadata": {},
   "outputs": [],
   "source": [
    "#to change all the customers at checkout as the next location is exit\n",
    "df1.loc[df1[\"location\"] == 'checkout', \"next_location\"] = 'checkout'"
   ]
  },
  {
   "cell_type": "code",
   "execution_count": 53,
   "id": "50c59550",
   "metadata": {},
   "outputs": [
    {
     "data": {
      "text/html": [
       "<div>\n",
       "<style scoped>\n",
       "    .dataframe tbody tr th:only-of-type {\n",
       "        vertical-align: middle;\n",
       "    }\n",
       "\n",
       "    .dataframe tbody tr th {\n",
       "        vertical-align: top;\n",
       "    }\n",
       "\n",
       "    .dataframe thead th {\n",
       "        text-align: right;\n",
       "    }\n",
       "</style>\n",
       "<table border=\"1\" class=\"dataframe\">\n",
       "  <thead>\n",
       "    <tr style=\"text-align: right;\">\n",
       "      <th></th>\n",
       "      <th>location</th>\n",
       "      <th>next_location</th>\n",
       "    </tr>\n",
       "  </thead>\n",
       "  <tbody>\n",
       "    <tr>\n",
       "      <th>0</th>\n",
       "      <td>dairy</td>\n",
       "      <td>dairy</td>\n",
       "    </tr>\n",
       "    <tr>\n",
       "      <th>1</th>\n",
       "      <td>dairy</td>\n",
       "      <td>checkout</td>\n",
       "    </tr>\n",
       "  </tbody>\n",
       "</table>\n",
       "</div>"
      ],
      "text/plain": [
       "  location next_location\n",
       "0    dairy         dairy\n",
       "1    dairy      checkout"
      ]
     },
     "execution_count": 53,
     "metadata": {},
     "output_type": "execute_result"
    }
   ],
   "source": [
    "#to extract the current location and the next location\n",
    "locations=df1[['location', 'next_location']]\n",
    "locations.head(2)"
   ]
  },
  {
   "cell_type": "code",
   "execution_count": 67,
   "id": "1f4fe242",
   "metadata": {},
   "outputs": [],
   "source": [
    "#calculate the probabilities\n",
    "transition_matrix=pd.crosstab(locations['location'], locations['next_location'], normalize=0)"
   ]
  },
  {
   "cell_type": "code",
   "execution_count": 72,
   "id": "44a9ac52",
   "metadata": {},
   "outputs": [
    {
     "data": {
      "text/plain": [
       "Index(['checkout', 'dairy', 'drinks', 'fruit', 'spices'], dtype='object', name='location')"
      ]
     },
     "execution_count": 72,
     "metadata": {},
     "output_type": "execute_result"
    }
   ],
   "source": [
    "transition_matrix.index"
   ]
  },
  {
   "cell_type": "code",
   "execution_count": 56,
   "id": "586773ef",
   "metadata": {},
   "outputs": [
    {
     "data": {
      "text/plain": [
       "location\n",
       "checkout    1.0\n",
       "dairy       1.0\n",
       "drinks      1.0\n",
       "fruit       1.0\n",
       "spices      1.0\n",
       "dtype: float64"
      ]
     },
     "execution_count": 56,
     "metadata": {},
     "output_type": "execute_result"
    }
   ],
   "source": [
    "#to check that all rows sum up to 1\n",
    "transition_matrix.sum(axis=1)"
   ]
  },
  {
   "cell_type": "code",
   "execution_count": 73,
   "id": "9fe4ee23",
   "metadata": {},
   "outputs": [
    {
     "data": {
      "text/plain": [
       "array([[1.        , 0.        , 0.        , 0.        , 0.        ],\n",
       "       [0.0894797 , 0.74413951, 0.06232133, 0.05174385, 0.05231561],\n",
       "       [0.20810943, 0.01123596, 0.61064973, 0.09086468, 0.07914021],\n",
       "       [0.20585938, 0.08789062, 0.05078125, 0.6078125 , 0.04765625],\n",
       "       [0.14576547, 0.19136808, 0.1767101 , 0.09690554, 0.38925081]])"
      ]
     },
     "execution_count": 73,
     "metadata": {},
     "output_type": "execute_result"
    }
   ],
   "source": [
    "#Convert transition matrix to numpy array\n",
    "TM = transition_matrix.to_numpy()\n",
    "TM"
   ]
  },
  {
   "cell_type": "markdown",
   "id": "df3083ec",
   "metadata": {},
   "source": [
    "# Implement a Customer Class using the transition matrix"
   ]
  },
  {
   "cell_type": "code",
   "execution_count": 58,
   "id": "7d9abf57",
   "metadata": {},
   "outputs": [],
   "source": [
    "# Actual Simulation\n",
    "class Customer:\n",
    "    def __init__(self, name, state, transition_mat):\n",
    "        self.name = name\n",
    "        self.state = state\n",
    "        self.transition_mat = transition_mat\n",
    "        \n",
    "      \n",
    "    def __repr__(self):\n",
    "        return f'<Customer {self.id} in {self.state}>'\n",
    "      \n",
    "\n",
    "    def is_active(self):\n",
    "        if self.state != 'checkout':\n",
    "            return True\n",
    "        else:\n",
    "            return False\n",
    "\n",
    "    def next_state(self):\n",
    "        transition_mat = self.transition_mat\n",
    "        next_state = ['checkout', 'dairy', 'drinks', 'fruit', 'spices']\n",
    "        if self.state == 'checkout':\n",
    "                return 'customer has left'\n",
    "        else:\n",
    "            while self.state != 'checkout':\n",
    "                if self.state == 'dairy':\n",
    "                    self.state = np.random.choice(next_state, p=transition_mat[1])\n",
    "                    print(self.state)\n",
    "                elif self.state == 'drinks':\n",
    "                    self.state = np.random.choice(next_state, p=transition_mat[2])\n",
    "                    print(self.state)\n",
    "                elif self.state == 'fruit':\n",
    "                    self.state = np.random.choice(next_state, p=transition_mat[3])\n",
    "                    print(self.state)\n",
    "                else:\n",
    "                    self.state = np.random.choice(next_state, p=transition_mat[4])\n",
    "                    print(self.state)\n",
    "            else:\n",
    "                return 'customer has left'"
   ]
  },
  {
   "cell_type": "code",
   "execution_count": 59,
   "id": "bfda593e",
   "metadata": {},
   "outputs": [
    {
     "name": "stdout",
     "output_type": "stream",
     "text": [
      "dairy\n",
      "dairy\n",
      "dairy\n",
      "spices\n",
      "dairy\n",
      "dairy\n",
      "checkout\n"
     ]
    },
    {
     "data": {
      "text/plain": [
       "'customer has left'"
      ]
     },
     "execution_count": 59,
     "metadata": {},
     "output_type": "execute_result"
    }
   ],
   "source": [
    "#For customer 1\n",
    "cust1 = Customer('Jake', 'dairy', TM)\n",
    "cust1.next_state()"
   ]
  },
  {
   "cell_type": "code",
   "execution_count": 60,
   "id": "facdefbb",
   "metadata": {},
   "outputs": [
    {
     "name": "stdout",
     "output_type": "stream",
     "text": [
      "fruit\n",
      "spices\n",
      "spices\n",
      "dairy\n",
      "dairy\n",
      "spices\n",
      "drinks\n",
      "checkout\n"
     ]
    },
    {
     "data": {
      "text/plain": [
       "'customer has left'"
      ]
     },
     "execution_count": 60,
     "metadata": {},
     "output_type": "execute_result"
    }
   ],
   "source": [
    "cust2=Customer(\"Margaret\", \"spices\",TM)\n",
    "cust2.next_state()"
   ]
  },
  {
   "cell_type": "code",
   "execution_count": 61,
   "id": "c943c023",
   "metadata": {},
   "outputs": [
    {
     "name": "stdout",
     "output_type": "stream",
     "text": [
      "drinks\n",
      "drinks\n",
      "drinks\n",
      "drinks\n",
      "spices\n",
      "drinks\n",
      "fruit\n",
      "fruit\n",
      "spices\n",
      "checkout\n"
     ]
    },
    {
     "data": {
      "text/plain": [
       "'customer has left'"
      ]
     },
     "execution_count": 61,
     "metadata": {},
     "output_type": "execute_result"
    }
   ],
   "source": [
    "cust3 = Customer('Thomas', 'drinks', TM)\n",
    "cust3.next_state()\n"
   ]
  },
  {
   "cell_type": "code",
   "execution_count": 62,
   "id": "2bfd1569",
   "metadata": {},
   "outputs": [
    {
     "name": "stdout",
     "output_type": "stream",
     "text": [
      "drinks\n",
      "spices\n",
      "spices\n",
      "spices\n",
      "spices\n",
      "spices\n",
      "checkout\n"
     ]
    },
    {
     "data": {
      "text/plain": [
       "False"
      ]
     },
     "execution_count": 62,
     "metadata": {},
     "output_type": "execute_result"
    }
   ],
   "source": [
    "cust4 = Customer('Lilly', 'dairy', TM)\n",
    "cust4.next_state()\n",
    "cust4.is_active()"
   ]
  },
  {
   "cell_type": "code",
   "execution_count": 63,
   "id": "0fb1252a",
   "metadata": {
    "scrolled": true
   },
   "outputs": [
    {
     "name": "stdout",
     "output_type": "stream",
     "text": [
      "dairy\n",
      "dairy\n",
      "checkout\n"
     ]
    },
    {
     "data": {
      "text/plain": [
       "'customer has left'"
      ]
     },
     "execution_count": 63,
     "metadata": {},
     "output_type": "execute_result"
    }
   ],
   "source": [
    "cust5 = Customer('Charlotte', 'dairy', TM)\n",
    "cust5.next_state()"
   ]
  }
 ],
 "metadata": {
  "hide_input": false,
  "kernelspec": {
   "display_name": "Python 3",
   "language": "python",
   "name": "python3"
  },
  "language_info": {
   "codemirror_mode": {
    "name": "ipython",
    "version": 3
   },
   "file_extension": ".py",
   "mimetype": "text/x-python",
   "name": "python",
   "nbconvert_exporter": "python",
   "pygments_lexer": "ipython3",
   "version": "3.9.7"
  },
  "toc": {
   "base_numbering": 1,
   "nav_menu": {},
   "number_sections": true,
   "sideBar": true,
   "skip_h1_title": false,
   "title_cell": "Table of Contents",
   "title_sidebar": "Contents",
   "toc_cell": false,
   "toc_position": {
    "height": "calc(100% - 180px)",
    "left": "10px",
    "top": "150px",
    "width": "165px"
   },
   "toc_section_display": true,
   "toc_window_display": true
  }
 },
 "nbformat": 4,
 "nbformat_minor": 5
}
