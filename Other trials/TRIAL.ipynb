{
 "cells": [
  {
   "cell_type": "code",
   "execution_count": 1,
   "id": "df71dc81",
   "metadata": {},
   "outputs": [],
   "source": [
    "import numpy as np\n",
    "import pandas as pd\n",
    "\n",
    "\n",
    "\n"
   ]
  },
  {
   "cell_type": "code",
   "execution_count": 2,
   "id": "54aface6",
   "metadata": {},
   "outputs": [],
   "source": [
    "# from transition_matrix import transition_matrix\n",
    "transition_matrix = pd.read_csv(\"transition_matrix.csv\")\n",
    "transition_matrix.set_index(\"location\", inplace=True)\n"
   ]
  },
  {
   "cell_type": "code",
   "execution_count": null,
   "id": "72f86b68",
   "metadata": {},
   "outputs": [],
   "source": []
  },
  {
   "cell_type": "code",
   "execution_count": null,
   "id": "351a973a",
   "metadata": {},
   "outputs": [],
   "source": []
  },
  {
   "cell_type": "code",
   "execution_count": null,
   "id": "64ae2f67",
   "metadata": {},
   "outputs": [],
   "source": []
  },
  {
   "cell_type": "code",
   "execution_count": 3,
   "id": "64221627",
   "metadata": {},
   "outputs": [],
   "source": [
    "class Customer:\n",
    "    ''' a single customer that moves through the supermarket in a MCMC simulation'''\n",
    "    # constructor\n",
    "\n",
    "    def __init__(self, name, state): #, transition_mat\n",
    "        self.name = name\n",
    "        self.state = state\n",
    "        self.transition_matrix = transition_matrix\n",
    "#        self.path = [\"entrance\"]\n",
    "#        self.path_to_dest = []\n",
    "\n",
    "    # repr\n",
    "\n",
    "    def __repr__(self):\n",
    "        '''returns a csv string for that customer\n",
    "        '''\n",
    "        return f'{self.name} is in {self.state}'\n",
    "\n",
    "    def is_active(self):\n",
    "        '''\n",
    "        Returns True if the customer has not reached the checkout for\n",
    "        the second time yet, False otherwise.\n",
    "        '''\n",
    "        if self.state == 'checkout':\n",
    "            return False\n",
    "        else:\n",
    "            return True\n",
    "\n",
    "    # set state\n",
    "    def next_state(self):\n",
    "        '''Propagates the customer to the next state using a weighted\n",
    "        random choice from the transition probabilites conditional on the\n",
    "        current state.\n",
    "        Returns nothing.\n",
    "        '''\n",
    "        while self.state != 'checkout':\n",
    "            next_location = np.random.choice(\n",
    "            self.transition_matrix.columns.values, p=self.transition_matrix.loc[self.state])\n",
    "            self.state = next_location\n",
    "            print(self.state)\n",
    "\n",
    "        else:\n",
    "            return 'customer has left'\n"
   ]
  },
  {
   "cell_type": "code",
   "execution_count": 4,
   "id": "9bb4ebaf",
   "metadata": {},
   "outputs": [
    {
     "name": "stdout",
     "output_type": "stream",
     "text": [
      "dairy\n",
      "dairy\n",
      "dairy\n",
      "dairy\n",
      "spices\n",
      "dairy\n",
      "spices\n",
      "spices\n",
      "drinks\n",
      "drinks\n",
      "drinks\n",
      "drinks\n",
      "drinks\n",
      "drinks\n",
      "drinks\n",
      "spices\n",
      "checkout\n"
     ]
    },
    {
     "data": {
      "text/plain": [
       "'customer has left'"
      ]
     },
     "execution_count": 4,
     "metadata": {},
     "output_type": "execute_result"
    }
   ],
   "source": [
    "#For customer 1\n",
    "cust1 = Customer('Jake', 'dairy')\n",
    "cust1.next_state()"
   ]
  },
  {
   "cell_type": "code",
   "execution_count": null,
   "id": "915cc9fa",
   "metadata": {},
   "outputs": [],
   "source": []
  },
  {
   "cell_type": "code",
   "execution_count": null,
   "id": "3c1459d9",
   "metadata": {},
   "outputs": [],
   "source": []
  },
  {
   "cell_type": "code",
   "execution_count": null,
   "id": "b74bc801",
   "metadata": {},
   "outputs": [],
   "source": []
  },
  {
   "cell_type": "code",
   "execution_count": null,
   "id": "9b09117d",
   "metadata": {},
   "outputs": [],
   "source": []
  }
 ],
 "metadata": {
  "hide_input": false,
  "kernelspec": {
   "display_name": "Python 3 (ipykernel)",
   "language": "python",
   "name": "python3"
  },
  "language_info": {
   "codemirror_mode": {
    "name": "ipython",
    "version": 3
   },
   "file_extension": ".py",
   "mimetype": "text/x-python",
   "name": "python",
   "nbconvert_exporter": "python",
   "pygments_lexer": "ipython3",
   "version": "3.9.7"
  },
  "toc": {
   "base_numbering": 1,
   "nav_menu": {},
   "number_sections": true,
   "sideBar": true,
   "skip_h1_title": false,
   "title_cell": "Table of Contents",
   "title_sidebar": "Contents",
   "toc_cell": false,
   "toc_position": {},
   "toc_section_display": true,
   "toc_window_display": false
  }
 },
 "nbformat": 4,
 "nbformat_minor": 5
}
